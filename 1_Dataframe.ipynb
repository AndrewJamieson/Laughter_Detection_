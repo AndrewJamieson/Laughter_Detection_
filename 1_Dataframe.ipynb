{
 "cells": [
  {
   "cell_type": "markdown",
   "metadata": {},
   "source": [
    "### Import Modules"
   ]
  },
  {
   "cell_type": "code",
   "execution_count": 1,
   "metadata": {},
   "outputs": [],
   "source": [
    "import re\n",
    "import pickle\n",
    "import pandas as pd\n",
    "import string"
   ]
  },
  {
   "cell_type": "markdown",
   "metadata": {},
   "source": [
    "### Setting up Dataframe"
   ]
  },
  {
   "cell_type": "code",
   "execution_count": 2,
   "metadata": {},
   "outputs": [],
   "source": [
    "# opening pickle file\n",
    "with open('comedian.pickle', 'rb') as f:\n",
    "    heading = pickle.load(f)"
   ]
  },
  {
   "cell_type": "code",
   "execution_count": 4,
   "metadata": {},
   "outputs": [
    {
     "data": {
      "text/plain": [
       "['BILLY CONNOLLY: HIGH HORSE TOUR LIVE (2016) – FULL TRANSCRIPT',\n",
       " 'HANNAH GADSBY: DOUGLAS (2020) – FULL TRANSCRIPT',\n",
       " 'PATTON OSWALT: I LOVE EVERYTHING (2020) – FULL TRANSCRIPT',\n",
       " 'RUSSELL PETERS: DEPORTED (2020) – FULL TRANSCRIPT',\n",
       " 'JIMMY O. YANG: GOOD DEAL (2020) – FULL TRANSCRIPT']"
      ]
     },
     "execution_count": 4,
     "metadata": {},
     "output_type": "execute_result"
    }
   ],
   "source": [
    "heading[:5]"
   ]
  },
  {
   "cell_type": "code",
   "execution_count": 5,
   "metadata": {},
   "outputs": [],
   "source": [
    "# make a datafram using the heading\n",
    "comedian_df = pd.DataFrame({'Heading': heading})"
   ]
  },
  {
   "cell_type": "code",
   "execution_count": 6,
   "metadata": {},
   "outputs": [
    {
     "data": {
      "text/html": [
       "<div>\n",
       "<style scoped>\n",
       "    .dataframe tbody tr th:only-of-type {\n",
       "        vertical-align: middle;\n",
       "    }\n",
       "\n",
       "    .dataframe tbody tr th {\n",
       "        vertical-align: top;\n",
       "    }\n",
       "\n",
       "    .dataframe thead th {\n",
       "        text-align: right;\n",
       "    }\n",
       "</style>\n",
       "<table border=\"1\" class=\"dataframe\">\n",
       "  <thead>\n",
       "    <tr style=\"text-align: right;\">\n",
       "      <th></th>\n",
       "      <th>Heading</th>\n",
       "    </tr>\n",
       "  </thead>\n",
       "  <tbody>\n",
       "    <tr>\n",
       "      <th>0</th>\n",
       "      <td>BILLY CONNOLLY: HIGH HORSE TOUR LIVE (2016) – ...</td>\n",
       "    </tr>\n",
       "    <tr>\n",
       "      <th>1</th>\n",
       "      <td>HANNAH GADSBY: DOUGLAS (2020) – FULL TRANSCRIPT</td>\n",
       "    </tr>\n",
       "    <tr>\n",
       "      <th>2</th>\n",
       "      <td>PATTON OSWALT: I LOVE EVERYTHING (2020) – FULL...</td>\n",
       "    </tr>\n",
       "    <tr>\n",
       "      <th>3</th>\n",
       "      <td>RUSSELL PETERS: DEPORTED (2020) – FULL TRANSCRIPT</td>\n",
       "    </tr>\n",
       "    <tr>\n",
       "      <th>4</th>\n",
       "      <td>JIMMY O. YANG: GOOD DEAL (2020) – FULL TRANSCRIPT</td>\n",
       "    </tr>\n",
       "  </tbody>\n",
       "</table>\n",
       "</div>"
      ],
      "text/plain": [
       "                                             Heading\n",
       "0  BILLY CONNOLLY: HIGH HORSE TOUR LIVE (2016) – ...\n",
       "1    HANNAH GADSBY: DOUGLAS (2020) – FULL TRANSCRIPT\n",
       "2  PATTON OSWALT: I LOVE EVERYTHING (2020) – FULL...\n",
       "3  RUSSELL PETERS: DEPORTED (2020) – FULL TRANSCRIPT\n",
       "4  JIMMY O. YANG: GOOD DEAL (2020) – FULL TRANSCRIPT"
      ]
     },
     "execution_count": 6,
     "metadata": {},
     "output_type": "execute_result"
    }
   ],
   "source": [
    "comedian_df.head()"
   ]
  },
  {
   "cell_type": "markdown",
   "metadata": {},
   "source": [
    "### Splitting Names"
   ]
  },
  {
   "cell_type": "markdown",
   "metadata": {},
   "source": [
    "In most cases the format in the heading column is \"firstname lastname:Title (Year)\". This makes it easy to get most comedian names."
   ]
  },
  {
   "cell_type": "code",
   "execution_count": 7,
   "metadata": {},
   "outputs": [],
   "source": [
    "# Some headings don't have a colon. This is a list of words to split comedian names for most other cases.\n",
    "\n",
    "split_words =[':', ' On ', ' At ', ' About ', ' Live', 'Stand-Up', '–', '…', 'Award-Winning', 'Monologue', ' & ', 'Matters', 'E Il', 'Tries']"
   ]
  },
  {
   "cell_type": "code",
   "execution_count": 8,
   "metadata": {},
   "outputs": [],
   "source": [
    "# loop through each item in the heading, splitting the text using a loop on each split word\n",
    "nm=[]\n",
    "for name in comedian_df['Heading']:\n",
    "        for word in split_words:\n",
    "            name = (name.split(word)[0].title().rstrip())\n",
    "        nm.append(name)\n",
    "\n",
    "comedian_df['Name'] = nm"
   ]
  },
  {
   "cell_type": "code",
   "execution_count": 9,
   "metadata": {},
   "outputs": [
    {
     "data": {
      "text/html": [
       "<div>\n",
       "<style scoped>\n",
       "    .dataframe tbody tr th:only-of-type {\n",
       "        vertical-align: middle;\n",
       "    }\n",
       "\n",
       "    .dataframe tbody tr th {\n",
       "        vertical-align: top;\n",
       "    }\n",
       "\n",
       "    .dataframe thead th {\n",
       "        text-align: right;\n",
       "    }\n",
       "</style>\n",
       "<table border=\"1\" class=\"dataframe\">\n",
       "  <thead>\n",
       "    <tr style=\"text-align: right;\">\n",
       "      <th></th>\n",
       "      <th>Heading</th>\n",
       "      <th>Name</th>\n",
       "    </tr>\n",
       "  </thead>\n",
       "  <tbody>\n",
       "    <tr>\n",
       "      <th>0</th>\n",
       "      <td>BILLY CONNOLLY: HIGH HORSE TOUR LIVE (2016) – ...</td>\n",
       "      <td>Billy Connolly</td>\n",
       "    </tr>\n",
       "    <tr>\n",
       "      <th>1</th>\n",
       "      <td>HANNAH GADSBY: DOUGLAS (2020) – FULL TRANSCRIPT</td>\n",
       "      <td>Hannah Gadsby</td>\n",
       "    </tr>\n",
       "    <tr>\n",
       "      <th>2</th>\n",
       "      <td>PATTON OSWALT: I LOVE EVERYTHING (2020) – FULL...</td>\n",
       "      <td>Patton Oswalt</td>\n",
       "    </tr>\n",
       "    <tr>\n",
       "      <th>3</th>\n",
       "      <td>RUSSELL PETERS: DEPORTED (2020) – FULL TRANSCRIPT</td>\n",
       "      <td>Russell Peters</td>\n",
       "    </tr>\n",
       "    <tr>\n",
       "      <th>4</th>\n",
       "      <td>JIMMY O. YANG: GOOD DEAL (2020) – FULL TRANSCRIPT</td>\n",
       "      <td>Jimmy O. Yang</td>\n",
       "    </tr>\n",
       "  </tbody>\n",
       "</table>\n",
       "</div>"
      ],
      "text/plain": [
       "                                             Heading            Name\n",
       "0  BILLY CONNOLLY: HIGH HORSE TOUR LIVE (2016) – ...  Billy Connolly\n",
       "1    HANNAH GADSBY: DOUGLAS (2020) – FULL TRANSCRIPT   Hannah Gadsby\n",
       "2  PATTON OSWALT: I LOVE EVERYTHING (2020) – FULL...   Patton Oswalt\n",
       "3  RUSSELL PETERS: DEPORTED (2020) – FULL TRANSCRIPT  Russell Peters\n",
       "4  JIMMY O. YANG: GOOD DEAL (2020) – FULL TRANSCRIPT   Jimmy O. Yang"
      ]
     },
     "execution_count": 9,
     "metadata": {},
     "output_type": "execute_result"
    }
   ],
   "source": [
    "comedian_df.head()"
   ]
  },
  {
   "cell_type": "code",
   "execution_count": 10,
   "metadata": {},
   "outputs": [
    {
     "data": {
      "text/html": [
       "<div>\n",
       "<style scoped>\n",
       "    .dataframe tbody tr th:only-of-type {\n",
       "        vertical-align: middle;\n",
       "    }\n",
       "\n",
       "    .dataframe tbody tr th {\n",
       "        vertical-align: top;\n",
       "    }\n",
       "\n",
       "    .dataframe thead th {\n",
       "        text-align: right;\n",
       "    }\n",
       "</style>\n",
       "<table border=\"1\" class=\"dataframe\">\n",
       "  <thead>\n",
       "    <tr style=\"text-align: right;\">\n",
       "      <th></th>\n",
       "      <th>Heading</th>\n",
       "      <th>Name</th>\n",
       "    </tr>\n",
       "  </thead>\n",
       "  <tbody>\n",
       "    <tr>\n",
       "      <th>49</th>\n",
       "      <td>DAVE CHAPPELLE: STICKS AND STONES | EPILOGUE: ...</td>\n",
       "      <td>Dave Chappelle</td>\n",
       "    </tr>\n",
       "    <tr>\n",
       "      <th>50</th>\n",
       "      <td>Brazil, Corruption and the Amazon Rainforest |...</td>\n",
       "      <td>Brazil, Corruption And The Amazon Rainforest |...</td>\n",
       "    </tr>\n",
       "  </tbody>\n",
       "</table>\n",
       "</div>"
      ],
      "text/plain": [
       "                                              Heading  \\\n",
       "49  DAVE CHAPPELLE: STICKS AND STONES | EPILOGUE: ...   \n",
       "50  Brazil, Corruption and the Amazon Rainforest |...   \n",
       "\n",
       "                                                 Name  \n",
       "49                                     Dave Chappelle  \n",
       "50  Brazil, Corruption And The Amazon Rainforest |...  "
      ]
     },
     "execution_count": 10,
     "metadata": {},
     "output_type": "execute_result"
    }
   ],
   "source": [
    "# testing another example of the dataframe. Note - the name in line 50 needs work\n",
    "\n",
    "comedian_df.iloc[49:51]"
   ]
  },
  {
   "cell_type": "code",
   "execution_count": null,
   "metadata": {},
   "outputs": [],
   "source": []
  }
 ],
 "metadata": {
  "kernelspec": {
   "display_name": "Python 3",
   "language": "python",
   "name": "python3"
  },
  "language_info": {
   "codemirror_mode": {
    "name": "ipython",
    "version": 3
   },
   "file_extension": ".py",
   "mimetype": "text/x-python",
   "name": "python",
   "nbconvert_exporter": "python",
   "pygments_lexer": "ipython3",
   "version": "3.7.9"
  }
 },
 "nbformat": 4,
 "nbformat_minor": 4
}
