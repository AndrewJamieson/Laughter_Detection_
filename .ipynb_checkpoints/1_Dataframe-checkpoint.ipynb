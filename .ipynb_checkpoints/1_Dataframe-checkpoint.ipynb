{
 "cells": [
  {
   "cell_type": "markdown",
   "metadata": {},
   "source": [
    "### Import Modules"
   ]
  },
  {
   "cell_type": "code",
   "execution_count": 1,
   "metadata": {},
   "outputs": [],
   "source": [
    "import re\n",
    "import pickle\n",
    "import pandas as pd\n",
    "import string"
   ]
  },
  {
   "cell_type": "markdown",
   "metadata": {},
   "source": [
    "### Setting up Dataframe"
   ]
  },
  {
   "cell_type": "code",
   "execution_count": 2,
   "metadata": {},
   "outputs": [],
   "source": [
    "# opening pickle file\n",
    "with open('comedian.pickle', 'rb') as f:\n",
    "    heading = pickle.load(f)"
   ]
  },
  {
   "cell_type": "code",
   "execution_count": 4,
   "metadata": {},
   "outputs": [
    {
     "data": {
      "text/plain": [
       "['BILLY CONNOLLY: HIGH HORSE TOUR LIVE (2016) – FULL TRANSCRIPT',\n",
       " 'HANNAH GADSBY: DOUGLAS (2020) – FULL TRANSCRIPT',\n",
       " 'PATTON OSWALT: I LOVE EVERYTHING (2020) – FULL TRANSCRIPT',\n",
       " 'RUSSELL PETERS: DEPORTED (2020) – FULL TRANSCRIPT',\n",
       " 'JIMMY O. YANG: GOOD DEAL (2020) – FULL TRANSCRIPT']"
      ]
     },
     "execution_count": 4,
     "metadata": {},
     "output_type": "execute_result"
    }
   ],
   "source": [
    "heading[:5]"
   ]
  },
  {
   "cell_type": "code",
   "execution_count": 5,
   "metadata": {},
   "outputs": [],
   "source": [
    "# make a datafram using the heading\n",
    "comedian_df = pd.DataFrame({'Heading': heading})"
   ]
  },
  {
   "cell_type": "code",
   "execution_count": 6,
   "metadata": {},
   "outputs": [
    {
     "data": {
      "text/html": [
       "<div>\n",
       "<style scoped>\n",
       "    .dataframe tbody tr th:only-of-type {\n",
       "        vertical-align: middle;\n",
       "    }\n",
       "\n",
       "    .dataframe tbody tr th {\n",
       "        vertical-align: top;\n",
       "    }\n",
       "\n",
       "    .dataframe thead th {\n",
       "        text-align: right;\n",
       "    }\n",
       "</style>\n",
       "<table border=\"1\" class=\"dataframe\">\n",
       "  <thead>\n",
       "    <tr style=\"text-align: right;\">\n",
       "      <th></th>\n",
       "      <th>Heading</th>\n",
       "    </tr>\n",
       "  </thead>\n",
       "  <tbody>\n",
       "    <tr>\n",
       "      <th>0</th>\n",
       "      <td>BILLY CONNOLLY: HIGH HORSE TOUR LIVE (2016) – ...</td>\n",
       "    </tr>\n",
       "    <tr>\n",
       "      <th>1</th>\n",
       "      <td>HANNAH GADSBY: DOUGLAS (2020) – FULL TRANSCRIPT</td>\n",
       "    </tr>\n",
       "    <tr>\n",
       "      <th>2</th>\n",
       "      <td>PATTON OSWALT: I LOVE EVERYTHING (2020) – FULL...</td>\n",
       "    </tr>\n",
       "    <tr>\n",
       "      <th>3</th>\n",
       "      <td>RUSSELL PETERS: DEPORTED (2020) – FULL TRANSCRIPT</td>\n",
       "    </tr>\n",
       "    <tr>\n",
       "      <th>4</th>\n",
       "      <td>JIMMY O. YANG: GOOD DEAL (2020) – FULL TRANSCRIPT</td>\n",
       "    </tr>\n",
       "  </tbody>\n",
       "</table>\n",
       "</div>"
      ],
      "text/plain": [
       "                                             Heading\n",
       "0  BILLY CONNOLLY: HIGH HORSE TOUR LIVE (2016) – ...\n",
       "1    HANNAH GADSBY: DOUGLAS (2020) – FULL TRANSCRIPT\n",
       "2  PATTON OSWALT: I LOVE EVERYTHING (2020) – FULL...\n",
       "3  RUSSELL PETERS: DEPORTED (2020) – FULL TRANSCRIPT\n",
       "4  JIMMY O. YANG: GOOD DEAL (2020) – FULL TRANSCRIPT"
      ]
     },
     "execution_count": 6,
     "metadata": {},
     "output_type": "execute_result"
    }
   ],
   "source": [
    "comedian_df.head()"
   ]
  },
  {
   "cell_type": "markdown",
   "metadata": {},
   "source": [
    "### Splitting Names"
   ]
  },
  {
   "cell_type": "markdown",
   "metadata": {},
   "source": [
    "In most cases the format in the heading column is \"firstname lastname:Title (Year)\". This makes it easy to get most comedian names."
   ]
  },
  {
   "cell_type": "code",
   "execution_count": 7,
   "metadata": {},
   "outputs": [],
   "source": [
    "# Some headings don't have a colon. This is a list of words to split comedian names for most other cases.\n",
    "\n",
    "split_words =[':', ' On ', ' At ', ' About ', ' Live', 'Stand-Up', '–', '…', 'Award-Winning', 'Monologue', ' & ', 'Matters', 'E Il', 'Tries']"
   ]
  },
  {
   "cell_type": "code",
   "execution_count": 8,
   "metadata": {},
   "outputs": [],
   "source": [
    "# loop through each item in the heading, splitting the text using a loop on each split word\n",
    "nm=[]\n",
    "for name in comedian_df['Heading']:\n",
    "        for word in split_words:\n",
    "            name = (name.split(word)[0].title().rstrip())\n",
    "        nm.append(name)\n",
    "\n",
    "comedian_df['Name'] = nm"
   ]
  },
  {
   "cell_type": "code",
   "execution_count": 9,
   "metadata": {},
   "outputs": [
    {
     "data": {
      "text/html": [
       "<div>\n",
       "<style scoped>\n",
       "    .dataframe tbody tr th:only-of-type {\n",
       "        vertical-align: middle;\n",
       "    }\n",
       "\n",
       "    .dataframe tbody tr th {\n",
       "        vertical-align: top;\n",
       "    }\n",
       "\n",
       "    .dataframe thead th {\n",
       "        text-align: right;\n",
       "    }\n",
       "</style>\n",
       "<table border=\"1\" class=\"dataframe\">\n",
       "  <thead>\n",
       "    <tr style=\"text-align: right;\">\n",
       "      <th></th>\n",
       "      <th>Heading</th>\n",
       "      <th>Name</th>\n",
       "    </tr>\n",
       "  </thead>\n",
       "  <tbody>\n",
       "    <tr>\n",
       "      <th>0</th>\n",
       "      <td>BILLY CONNOLLY: HIGH HORSE TOUR LIVE (2016) – ...</td>\n",
       "      <td>Billy Connolly</td>\n",
       "    </tr>\n",
       "    <tr>\n",
       "      <th>1</th>\n",
       "      <td>HANNAH GADSBY: DOUGLAS (2020) – FULL TRANSCRIPT</td>\n",
       "      <td>Hannah Gadsby</td>\n",
       "    </tr>\n",
       "    <tr>\n",
       "      <th>2</th>\n",
       "      <td>PATTON OSWALT: I LOVE EVERYTHING (2020) – FULL...</td>\n",
       "      <td>Patton Oswalt</td>\n",
       "    </tr>\n",
       "    <tr>\n",
       "      <th>3</th>\n",
       "      <td>RUSSELL PETERS: DEPORTED (2020) – FULL TRANSCRIPT</td>\n",
       "      <td>Russell Peters</td>\n",
       "    </tr>\n",
       "    <tr>\n",
       "      <th>4</th>\n",
       "      <td>JIMMY O. YANG: GOOD DEAL (2020) – FULL TRANSCRIPT</td>\n",
       "      <td>Jimmy O. Yang</td>\n",
       "    </tr>\n",
       "  </tbody>\n",
       "</table>\n",
       "</div>"
      ],
      "text/plain": [
       "                                             Heading            Name\n",
       "0  BILLY CONNOLLY: HIGH HORSE TOUR LIVE (2016) – ...  Billy Connolly\n",
       "1    HANNAH GADSBY: DOUGLAS (2020) – FULL TRANSCRIPT   Hannah Gadsby\n",
       "2  PATTON OSWALT: I LOVE EVERYTHING (2020) – FULL...   Patton Oswalt\n",
       "3  RUSSELL PETERS: DEPORTED (2020) – FULL TRANSCRIPT  Russell Peters\n",
       "4  JIMMY O. YANG: GOOD DEAL (2020) – FULL TRANSCRIPT   Jimmy O. Yang"
      ]
     },
     "execution_count": 9,
     "metadata": {},
     "output_type": "execute_result"
    }
   ],
   "source": [
    "comedian_df.head()"
   ]
  },
  {
   "cell_type": "code",
   "execution_count": 10,
   "metadata": {},
   "outputs": [
    {
     "data": {
      "text/html": [
       "<div>\n",
       "<style scoped>\n",
       "    .dataframe tbody tr th:only-of-type {\n",
       "        vertical-align: middle;\n",
       "    }\n",
       "\n",
       "    .dataframe tbody tr th {\n",
       "        vertical-align: top;\n",
       "    }\n",
       "\n",
       "    .dataframe thead th {\n",
       "        text-align: right;\n",
       "    }\n",
       "</style>\n",
       "<table border=\"1\" class=\"dataframe\">\n",
       "  <thead>\n",
       "    <tr style=\"text-align: right;\">\n",
       "      <th></th>\n",
       "      <th>Heading</th>\n",
       "      <th>Name</th>\n",
       "    </tr>\n",
       "  </thead>\n",
       "  <tbody>\n",
       "    <tr>\n",
       "      <th>49</th>\n",
       "      <td>DAVE CHAPPELLE: STICKS AND STONES | EPILOGUE: ...</td>\n",
       "      <td>Dave Chappelle</td>\n",
       "    </tr>\n",
       "    <tr>\n",
       "      <th>50</th>\n",
       "      <td>Brazil, Corruption and the Amazon Rainforest |...</td>\n",
       "      <td>Brazil, Corruption And The Amazon Rainforest |...</td>\n",
       "    </tr>\n",
       "  </tbody>\n",
       "</table>\n",
       "</div>"
      ],
      "text/plain": [
       "                                              Heading  \\\n",
       "49  DAVE CHAPPELLE: STICKS AND STONES | EPILOGUE: ...   \n",
       "50  Brazil, Corruption and the Amazon Rainforest |...   \n",
       "\n",
       "                                                 Name  \n",
       "49                                     Dave Chappelle  \n",
       "50  Brazil, Corruption And The Amazon Rainforest |...  "
      ]
     },
     "execution_count": 10,
     "metadata": {},
     "output_type": "execute_result"
    }
   ],
   "source": [
    "# testing another example of the dataframe. Note - the name in line 50 needs work\n",
    "\n",
    "comedian_df.iloc[49:51]"
   ]
  },
  {
   "cell_type": "markdown",
   "metadata": {},
   "source": [
    "#### Fixing Names"
   ]
  },
  {
   "cell_type": "code",
   "execution_count": 11,
   "metadata": {},
   "outputs": [],
   "source": [
    "# Most names look correct, but we have to make an adjustment on a few\n",
    "\n",
    "name_index = [11, 50, 57, 58, 63, 83, 86, 88, 100, 101, 103, 112, 148, 224, 231, 235, 237, 338]"
   ]
  },
  {
   "cell_type": "code",
   "execution_count": 12,
   "metadata": {},
   "outputs": [],
   "source": [
    "# List of corrected comedian names\n",
    "name_fix = ['Louis C.K.',\n",
    "'Hasan Minhaj',\n",
    "'Katherine Ryan',\n",
    "'Katherine Ryan',\n",
    "'Gina Yashere',\n",
    "'George Carlin',\n",
    "'Gabriel Iglesias',\n",
    "'John Leguizamo',\n",
    "'George Carlin',\n",
    "'Tom Segura',\n",
    "'Joe Mande',\n",
    "'Dave Chappelle',\n",
    "'Patton Oswalt',\n",
    "'Richard Pryor',\n",
    "'Dave Attell',\n",
    "'Daniel Tosh',\n",
    "'George Carlin',\n",
    "'Pauline Kael',\n",
    "]\n"
   ]
  },
  {
   "cell_type": "markdown",
   "metadata": {},
   "source": [
    "#### Looping through corrected names"
   ]
  },
  {
   "cell_type": "code",
   "execution_count": 13,
   "metadata": {},
   "outputs": [],
   "source": [
    "# Loop through adjustments using the 2 lists above\n",
    "for i, n in zip(name_index, name_fix):\n",
    "        comedian_df.Name.iloc[i] = n"
   ]
  },
  {
   "cell_type": "code",
   "execution_count": 14,
   "metadata": {},
   "outputs": [
    {
     "data": {
      "text/html": [
       "<div>\n",
       "<style scoped>\n",
       "    .dataframe tbody tr th:only-of-type {\n",
       "        vertical-align: middle;\n",
       "    }\n",
       "\n",
       "    .dataframe tbody tr th {\n",
       "        vertical-align: top;\n",
       "    }\n",
       "\n",
       "    .dataframe thead th {\n",
       "        text-align: right;\n",
       "    }\n",
       "</style>\n",
       "<table border=\"1\" class=\"dataframe\">\n",
       "  <thead>\n",
       "    <tr style=\"text-align: right;\">\n",
       "      <th></th>\n",
       "      <th>Heading</th>\n",
       "      <th>Name</th>\n",
       "    </tr>\n",
       "  </thead>\n",
       "  <tbody>\n",
       "    <tr>\n",
       "      <th>49</th>\n",
       "      <td>DAVE CHAPPELLE: STICKS AND STONES | EPILOGUE: ...</td>\n",
       "      <td>Dave Chappelle</td>\n",
       "    </tr>\n",
       "    <tr>\n",
       "      <th>50</th>\n",
       "      <td>Brazil, Corruption and the Amazon Rainforest |...</td>\n",
       "      <td>Hasan Minhaj</td>\n",
       "    </tr>\n",
       "  </tbody>\n",
       "</table>\n",
       "</div>"
      ],
      "text/plain": [
       "                                              Heading            Name\n",
       "49  DAVE CHAPPELLE: STICKS AND STONES | EPILOGUE: ...  Dave Chappelle\n",
       "50  Brazil, Corruption and the Amazon Rainforest |...    Hasan Minhaj"
      ]
     },
     "execution_count": 14,
     "metadata": {},
     "output_type": "execute_result"
    }
   ],
   "source": [
    "# a look at the revised dataframe\n",
    "comedian_df.iloc[49:51]"
   ]
  },
  {
   "cell_type": "code",
   "execution_count": null,
   "metadata": {},
   "outputs": [],
   "source": []
  },
  {
   "cell_type": "markdown",
   "metadata": {},
   "source": [
    "### Splitting Year"
   ]
  },
  {
   "cell_type": "markdown",
   "metadata": {},
   "source": [
    "The heading usually has information about the year of each stand-up set. Follow a similar process to split this out"
   ]
  },
  {
   "cell_type": "code",
   "execution_count": 16,
   "metadata": {},
   "outputs": [],
   "source": [
    "# loop uses regex to find 4 digit numbers as year. Then add Year to dataframe\n",
    "yr = []    \n",
    "for name in comedian_df['Heading']:\n",
    "    try:\n",
    "        yr.append(re.search(r'\\b\\d{4}\\b',name).group(0))\n",
    "    except:\n",
    "        yr.append('missing year')\n",
    "comedian_df['Year'] = yr"
   ]
  },
  {
   "cell_type": "code",
   "execution_count": 17,
   "metadata": {},
   "outputs": [],
   "source": [
    "# those without 4 digits numbers are classified as missing year. This is a list of them all\n",
    "missing_yr = comedian_df['Year'] == 'missing year'"
   ]
  },
  {
   "cell_type": "code",
   "execution_count": 24,
   "metadata": {},
   "outputs": [
    {
     "data": {
      "text/html": [
       "<div>\n",
       "<style scoped>\n",
       "    .dataframe tbody tr th:only-of-type {\n",
       "        vertical-align: middle;\n",
       "    }\n",
       "\n",
       "    .dataframe tbody tr th {\n",
       "        vertical-align: top;\n",
       "    }\n",
       "\n",
       "    .dataframe thead th {\n",
       "        text-align: right;\n",
       "    }\n",
       "</style>\n",
       "<table border=\"1\" class=\"dataframe\">\n",
       "  <thead>\n",
       "    <tr style=\"text-align: right;\">\n",
       "      <th></th>\n",
       "      <th>Heading</th>\n",
       "      <th>Name</th>\n",
       "      <th>Year</th>\n",
       "    </tr>\n",
       "  </thead>\n",
       "  <tbody>\n",
       "    <tr>\n",
       "      <th>49</th>\n",
       "      <td>DAVE CHAPPELLE: STICKS AND STONES | EPILOGUE: ...</td>\n",
       "      <td>Dave Chappelle</td>\n",
       "      <td>missing year</td>\n",
       "    </tr>\n",
       "    <tr>\n",
       "      <th>50</th>\n",
       "      <td>Brazil, Corruption and the Amazon Rainforest |...</td>\n",
       "      <td>Hasan Minhaj</td>\n",
       "      <td>missing year</td>\n",
       "    </tr>\n",
       "    <tr>\n",
       "      <th>51</th>\n",
       "      <td>DAVE CHAPPELLE: STICKS &amp; STONES (2019) – FULL ...</td>\n",
       "      <td>Dave Chappelle</td>\n",
       "      <td>2019</td>\n",
       "    </tr>\n",
       "  </tbody>\n",
       "</table>\n",
       "</div>"
      ],
      "text/plain": [
       "                                              Heading            Name  \\\n",
       "49  DAVE CHAPPELLE: STICKS AND STONES | EPILOGUE: ...  Dave Chappelle   \n",
       "50  Brazil, Corruption and the Amazon Rainforest |...    Hasan Minhaj   \n",
       "51  DAVE CHAPPELLE: STICKS & STONES (2019) – FULL ...  Dave Chappelle   \n",
       "\n",
       "            Year  \n",
       "49  missing year  \n",
       "50  missing year  \n",
       "51          2019  "
      ]
     },
     "execution_count": 24,
     "metadata": {},
     "output_type": "execute_result"
    }
   ],
   "source": [
    "# viewing the dataframe again\n",
    "comedian_df.iloc[49:52]"
   ]
  },
  {
   "cell_type": "code",
   "execution_count": 21,
   "metadata": {},
   "outputs": [
    {
     "data": {
      "text/html": [
       "<div>\n",
       "<style scoped>\n",
       "    .dataframe tbody tr th:only-of-type {\n",
       "        vertical-align: middle;\n",
       "    }\n",
       "\n",
       "    .dataframe tbody tr th {\n",
       "        vertical-align: top;\n",
       "    }\n",
       "\n",
       "    .dataframe thead th {\n",
       "        text-align: right;\n",
       "    }\n",
       "</style>\n",
       "<table border=\"1\" class=\"dataframe\">\n",
       "  <thead>\n",
       "    <tr style=\"text-align: right;\">\n",
       "      <th></th>\n",
       "      <th>Heading</th>\n",
       "      <th>Name</th>\n",
       "      <th>Year</th>\n",
       "    </tr>\n",
       "  </thead>\n",
       "  <tbody>\n",
       "    <tr>\n",
       "      <th>0</th>\n",
       "      <td>BILLY CONNOLLY: HIGH HORSE TOUR LIVE (2016) – ...</td>\n",
       "      <td>Billy Connolly</td>\n",
       "      <td>2016</td>\n",
       "    </tr>\n",
       "    <tr>\n",
       "      <th>1</th>\n",
       "      <td>HANNAH GADSBY: DOUGLAS (2020) – FULL TRANSCRIPT</td>\n",
       "      <td>Hannah Gadsby</td>\n",
       "      <td>2020</td>\n",
       "    </tr>\n",
       "    <tr>\n",
       "      <th>2</th>\n",
       "      <td>PATTON OSWALT: I LOVE EVERYTHING (2020) – FULL...</td>\n",
       "      <td>Patton Oswalt</td>\n",
       "      <td>2020</td>\n",
       "    </tr>\n",
       "    <tr>\n",
       "      <th>3</th>\n",
       "      <td>RUSSELL PETERS: DEPORTED (2020) – FULL TRANSCRIPT</td>\n",
       "      <td>Russell Peters</td>\n",
       "      <td>2020</td>\n",
       "    </tr>\n",
       "    <tr>\n",
       "      <th>4</th>\n",
       "      <td>JIMMY O. YANG: GOOD DEAL (2020) – FULL TRANSCRIPT</td>\n",
       "      <td>Jimmy O. Yang</td>\n",
       "      <td>2020</td>\n",
       "    </tr>\n",
       "  </tbody>\n",
       "</table>\n",
       "</div>"
      ],
      "text/plain": [
       "                                             Heading            Name  Year\n",
       "0  BILLY CONNOLLY: HIGH HORSE TOUR LIVE (2016) – ...  Billy Connolly  2016\n",
       "1    HANNAH GADSBY: DOUGLAS (2020) – FULL TRANSCRIPT   Hannah Gadsby  2020\n",
       "2  PATTON OSWALT: I LOVE EVERYTHING (2020) – FULL...   Patton Oswalt  2020\n",
       "3  RUSSELL PETERS: DEPORTED (2020) – FULL TRANSCRIPT  Russell Peters  2020\n",
       "4  JIMMY O. YANG: GOOD DEAL (2020) – FULL TRANSCRIPT   Jimmy O. Yang  2020"
      ]
     },
     "execution_count": 21,
     "metadata": {},
     "output_type": "execute_result"
    }
   ],
   "source": [
    "comedian_df.head()"
   ]
  },
  {
   "cell_type": "markdown",
   "metadata": {},
   "source": [
    "#### Fixing Years"
   ]
  },
  {
   "cell_type": "code",
   "execution_count": 22,
   "metadata": {},
   "outputs": [],
   "source": [
    "# creating an index for the missing year list\n",
    "missing_yr_index = [i for i, val in enumerate(missing_yr) if val]"
   ]
  },
  {
   "cell_type": "code",
   "execution_count": 23,
   "metadata": {},
   "outputs": [
    {
     "data": {
      "text/plain": [
       "[16,\n",
       " 19,\n",
       " 22,\n",
       " 49,\n",
       " 50,\n",
       " 54,\n",
       " 65,\n",
       " 83,\n",
       " 101,\n",
       " 107,\n",
       " 108,\n",
       " 142,\n",
       " 223,\n",
       " 236,\n",
       " 238,\n",
       " 311,\n",
       " 328,\n",
       " 338]"
      ]
     },
     "execution_count": 23,
     "metadata": {},
     "output_type": "execute_result"
    }
   ],
   "source": [
    "missing_yr_index"
   ]
  },
  {
   "cell_type": "code",
   "execution_count": 25,
   "metadata": {},
   "outputs": [],
   "source": [
    "# had to manually look up some of the missing years\n",
    "\n",
    "yr_list = ['1993',\n",
    "'1965',\n",
    "'2015',\n",
    "'2019',\n",
    "'2019',\n",
    "'2019',\n",
    "'2004',\n",
    "'1997',\n",
    "'2011',\n",
    "'2012',\n",
    "'2014',\n",
    "'2007',\n",
    "'1996',\n",
    "'1999',\n",
    "'2014',\n",
    "'1972',\n",
    "'2014',\n",
    "'1980']"
   ]
  },
  {
   "cell_type": "markdown",
   "metadata": {},
   "source": [
    "#### Looping through missing years"
   ]
  },
  {
   "cell_type": "code",
   "execution_count": 26,
   "metadata": {},
   "outputs": [],
   "source": [
    "# appling the missing years\n",
    "for i, y in zip(missing_yr_index, yr_list):\n",
    "        comedian_df.Year.iloc[i] = y"
   ]
  },
  {
   "cell_type": "code",
   "execution_count": 27,
   "metadata": {},
   "outputs": [
    {
     "data": {
      "text/html": [
       "<div>\n",
       "<style scoped>\n",
       "    .dataframe tbody tr th:only-of-type {\n",
       "        vertical-align: middle;\n",
       "    }\n",
       "\n",
       "    .dataframe tbody tr th {\n",
       "        vertical-align: top;\n",
       "    }\n",
       "\n",
       "    .dataframe thead th {\n",
       "        text-align: right;\n",
       "    }\n",
       "</style>\n",
       "<table border=\"1\" class=\"dataframe\">\n",
       "  <thead>\n",
       "    <tr style=\"text-align: right;\">\n",
       "      <th></th>\n",
       "      <th>Heading</th>\n",
       "      <th>Name</th>\n",
       "      <th>Year</th>\n",
       "    </tr>\n",
       "  </thead>\n",
       "  <tbody>\n",
       "    <tr>\n",
       "      <th>49</th>\n",
       "      <td>DAVE CHAPPELLE: STICKS AND STONES | EPILOGUE: ...</td>\n",
       "      <td>Dave Chappelle</td>\n",
       "      <td>2019</td>\n",
       "    </tr>\n",
       "    <tr>\n",
       "      <th>50</th>\n",
       "      <td>Brazil, Corruption and the Amazon Rainforest |...</td>\n",
       "      <td>Hasan Minhaj</td>\n",
       "      <td>2019</td>\n",
       "    </tr>\n",
       "  </tbody>\n",
       "</table>\n",
       "</div>"
      ],
      "text/plain": [
       "                                              Heading            Name  Year\n",
       "49  DAVE CHAPPELLE: STICKS AND STONES | EPILOGUE: ...  Dave Chappelle  2019\n",
       "50  Brazil, Corruption and the Amazon Rainforest |...    Hasan Minhaj  2019"
      ]
     },
     "execution_count": 27,
     "metadata": {},
     "output_type": "execute_result"
    }
   ],
   "source": [
    "# checking the df - years have been added\n",
    "comedian_df.iloc[49:51]"
   ]
  },
  {
   "cell_type": "code",
   "execution_count": 29,
   "metadata": {},
   "outputs": [
    {
     "data": {
      "text/plain": [
       "2018    43\n",
       "2017    40\n",
       "2019    40\n",
       "2016    27\n",
       "2015    22\n",
       "2014    16\n",
       "2013    15\n",
       "2012    14\n",
       "2020    14\n",
       "2010    13\n",
       "2011    11\n",
       "2007     9\n",
       "1999     8\n",
       "2006     8\n",
       "2004     6\n",
       "2008     6\n",
       "2009     5\n",
       "1996     4\n",
       "1992     4\n",
       "1998     3\n",
       "Name: Year, dtype: int64"
      ]
     },
     "execution_count": 29,
     "metadata": {},
     "output_type": "execute_result"
    }
   ],
   "source": [
    "# top 20 years by count, most are recent\n",
    "comedian_df.Year.value_counts()[:20]"
   ]
  },
  {
   "cell_type": "code",
   "execution_count": null,
   "metadata": {},
   "outputs": [],
   "source": []
  },
  {
   "cell_type": "markdown",
   "metadata": {},
   "source": [
    "### Splitting Title"
   ]
  },
  {
   "cell_type": "markdown",
   "metadata": {},
   "source": [
    "We can also split the title of each stand-up set from the heading"
   ]
  },
  {
   "cell_type": "code",
   "execution_count": 30,
   "metadata": {},
   "outputs": [],
   "source": [
    "# Start by splitting on hyphen or parentheses or brackets\n",
    "split_titles =['–', ' (', ' [']"
   ]
  },
  {
   "cell_type": "code",
   "execution_count": 31,
   "metadata": {},
   "outputs": [],
   "source": [
    "# Note this time we apply 'capwords' rather than 'title' as capwords works better with apostrophes in titles\n",
    "# The second part of the loop splits on colon, taking the second part of the split. \n",
    "# We need a try / except for cases without a colon\n",
    "\n",
    "ti=[]\n",
    "for ttl in comedian_df['Heading']:\n",
    "        for word in split_titles:\n",
    "            ttl = string.capwords(ttl.split(word)[0]).rstrip()\n",
    "    \n",
    "        try:\n",
    "            ttl = (ttl.split(\":\")[1].lstrip())\n",
    "        except:\n",
    "            ttl = ttl\n",
    "        ti.append(ttl)\n",
    "\n",
    "comedian_df['Title'] = ti\n"
   ]
  },
  {
   "cell_type": "code",
   "execution_count": 32,
   "metadata": {},
   "outputs": [
    {
     "data": {
      "text/html": [
       "<div>\n",
       "<style scoped>\n",
       "    .dataframe tbody tr th:only-of-type {\n",
       "        vertical-align: middle;\n",
       "    }\n",
       "\n",
       "    .dataframe tbody tr th {\n",
       "        vertical-align: top;\n",
       "    }\n",
       "\n",
       "    .dataframe thead th {\n",
       "        text-align: right;\n",
       "    }\n",
       "</style>\n",
       "<table border=\"1\" class=\"dataframe\">\n",
       "  <thead>\n",
       "    <tr style=\"text-align: right;\">\n",
       "      <th></th>\n",
       "      <th>Heading</th>\n",
       "      <th>Name</th>\n",
       "      <th>Year</th>\n",
       "      <th>Title</th>\n",
       "    </tr>\n",
       "  </thead>\n",
       "  <tbody>\n",
       "    <tr>\n",
       "      <th>49</th>\n",
       "      <td>DAVE CHAPPELLE: STICKS AND STONES | EPILOGUE: ...</td>\n",
       "      <td>Dave Chappelle</td>\n",
       "      <td>2019</td>\n",
       "      <td>Sticks And Stones | Epilogue</td>\n",
       "    </tr>\n",
       "    <tr>\n",
       "      <th>50</th>\n",
       "      <td>Brazil, Corruption and the Amazon Rainforest |...</td>\n",
       "      <td>Hasan Minhaj</td>\n",
       "      <td>2019</td>\n",
       "      <td>Brazil, Corruption And The Amazon Rainforest |...</td>\n",
       "    </tr>\n",
       "  </tbody>\n",
       "</table>\n",
       "</div>"
      ],
      "text/plain": [
       "                                              Heading            Name  Year  \\\n",
       "49  DAVE CHAPPELLE: STICKS AND STONES | EPILOGUE: ...  Dave Chappelle  2019   \n",
       "50  Brazil, Corruption and the Amazon Rainforest |...    Hasan Minhaj  2019   \n",
       "\n",
       "                                                Title  \n",
       "49                       Sticks And Stones | Epilogue  \n",
       "50  Brazil, Corruption And The Amazon Rainforest |...  "
      ]
     },
     "execution_count": 32,
     "metadata": {},
     "output_type": "execute_result"
    }
   ],
   "source": [
    "# viewing the dataframe, note the dots for an extended title on line 50\n",
    "comedian_df.iloc[49:51]"
   ]
  },
  {
   "cell_type": "code",
   "execution_count": null,
   "metadata": {},
   "outputs": [],
   "source": []
  },
  {
   "cell_type": "code",
   "execution_count": null,
   "metadata": {},
   "outputs": [],
   "source": []
  }
 ],
 "metadata": {
  "kernelspec": {
   "display_name": "Python 3",
   "language": "python",
   "name": "python3"
  },
  "language_info": {
   "codemirror_mode": {
    "name": "ipython",
    "version": 3
   },
   "file_extension": ".py",
   "mimetype": "text/x-python",
   "name": "python",
   "nbconvert_exporter": "python",
   "pygments_lexer": "ipython3",
   "version": "3.7.9"
  }
 },
 "nbformat": 4,
 "nbformat_minor": 4
}
