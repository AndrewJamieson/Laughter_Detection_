{
 "cells": [
  {
   "cell_type": "markdown",
   "metadata": {},
   "source": [
    "### Import Modules"
   ]
  },
  {
   "cell_type": "code",
   "execution_count": 1,
   "metadata": {},
   "outputs": [],
   "source": [
    "import re\n",
    "import pickle\n",
    "import pandas as pd\n",
    "import string"
   ]
  },
  {
   "cell_type": "markdown",
   "metadata": {},
   "source": [
    "### Setting up Dataframe"
   ]
  },
  {
   "cell_type": "code",
   "execution_count": 2,
   "metadata": {},
   "outputs": [],
   "source": [
    "# opening pickle file\n",
    "with open('comedian.pickle', 'rb') as f:\n",
    "    heading = pickle.load(f)"
   ]
  },
  {
   "cell_type": "code",
   "execution_count": 3,
   "metadata": {},
   "outputs": [
    {
     "data": {
      "text/plain": [
       "['BILLY CONNOLLY: HIGH HORSE TOUR LIVE (2016) – FULL TRANSCRIPT',\n",
       " 'HANNAH GADSBY: DOUGLAS (2020) – FULL TRANSCRIPT',\n",
       " 'PATTON OSWALT: I LOVE EVERYTHING (2020) – FULL TRANSCRIPT',\n",
       " 'RUSSELL PETERS: DEPORTED (2020) – FULL TRANSCRIPT',\n",
       " 'JIMMY O. YANG: GOOD DEAL (2020) – FULL TRANSCRIPT']"
      ]
     },
     "execution_count": 3,
     "metadata": {},
     "output_type": "execute_result"
    }
   ],
   "source": [
    "heading[:5]"
   ]
  },
  {
   "cell_type": "code",
   "execution_count": 4,
   "metadata": {},
   "outputs": [],
   "source": [
    "# make a datafram using the heading\n",
    "comedian_df = pd.DataFrame({'Heading': heading})"
   ]
  },
  {
   "cell_type": "code",
   "execution_count": 5,
   "metadata": {},
   "outputs": [
    {
     "data": {
      "text/html": [
       "<div>\n",
       "<style scoped>\n",
       "    .dataframe tbody tr th:only-of-type {\n",
       "        vertical-align: middle;\n",
       "    }\n",
       "\n",
       "    .dataframe tbody tr th {\n",
       "        vertical-align: top;\n",
       "    }\n",
       "\n",
       "    .dataframe thead th {\n",
       "        text-align: right;\n",
       "    }\n",
       "</style>\n",
       "<table border=\"1\" class=\"dataframe\">\n",
       "  <thead>\n",
       "    <tr style=\"text-align: right;\">\n",
       "      <th></th>\n",
       "      <th>Heading</th>\n",
       "    </tr>\n",
       "  </thead>\n",
       "  <tbody>\n",
       "    <tr>\n",
       "      <th>0</th>\n",
       "      <td>BILLY CONNOLLY: HIGH HORSE TOUR LIVE (2016) – ...</td>\n",
       "    </tr>\n",
       "    <tr>\n",
       "      <th>1</th>\n",
       "      <td>HANNAH GADSBY: DOUGLAS (2020) – FULL TRANSCRIPT</td>\n",
       "    </tr>\n",
       "    <tr>\n",
       "      <th>2</th>\n",
       "      <td>PATTON OSWALT: I LOVE EVERYTHING (2020) – FULL...</td>\n",
       "    </tr>\n",
       "    <tr>\n",
       "      <th>3</th>\n",
       "      <td>RUSSELL PETERS: DEPORTED (2020) – FULL TRANSCRIPT</td>\n",
       "    </tr>\n",
       "    <tr>\n",
       "      <th>4</th>\n",
       "      <td>JIMMY O. YANG: GOOD DEAL (2020) – FULL TRANSCRIPT</td>\n",
       "    </tr>\n",
       "  </tbody>\n",
       "</table>\n",
       "</div>"
      ],
      "text/plain": [
       "                                             Heading\n",
       "0  BILLY CONNOLLY: HIGH HORSE TOUR LIVE (2016) – ...\n",
       "1    HANNAH GADSBY: DOUGLAS (2020) – FULL TRANSCRIPT\n",
       "2  PATTON OSWALT: I LOVE EVERYTHING (2020) – FULL...\n",
       "3  RUSSELL PETERS: DEPORTED (2020) – FULL TRANSCRIPT\n",
       "4  JIMMY O. YANG: GOOD DEAL (2020) – FULL TRANSCRIPT"
      ]
     },
     "execution_count": 5,
     "metadata": {},
     "output_type": "execute_result"
    }
   ],
   "source": [
    "comedian_df.head()"
   ]
  },
  {
   "cell_type": "markdown",
   "metadata": {},
   "source": [
    "### Splitting Names"
   ]
  },
  {
   "cell_type": "markdown",
   "metadata": {},
   "source": [
    "In most cases the format in the heading column is \"firstname lastname:Title (Year)\". This makes it easy to get most comedian names."
   ]
  },
  {
   "cell_type": "code",
   "execution_count": 6,
   "metadata": {},
   "outputs": [],
   "source": [
    "# Some headings don't have a colon. This is a list of words to split comedian names for most other cases.\n",
    "\n",
    "split_words =[':', ' On ', ' At ', ' About ', ' Live', 'Stand-Up', '–', '…', 'Award-Winning', 'Monologue', ' & ', 'Matters', 'E Il', 'Tries']"
   ]
  },
  {
   "cell_type": "code",
   "execution_count": 7,
   "metadata": {},
   "outputs": [],
   "source": [
    "# loop through each item in the heading, splitting the text using a loop on each split word\n",
    "nm=[]\n",
    "for name in comedian_df['Heading']:\n",
    "        for word in split_words:\n",
    "            name = (name.split(word)[0].title().rstrip())\n",
    "        nm.append(name)\n",
    "\n",
    "comedian_df['Name'] = nm"
   ]
  },
  {
   "cell_type": "code",
   "execution_count": 8,
   "metadata": {},
   "outputs": [
    {
     "data": {
      "text/html": [
       "<div>\n",
       "<style scoped>\n",
       "    .dataframe tbody tr th:only-of-type {\n",
       "        vertical-align: middle;\n",
       "    }\n",
       "\n",
       "    .dataframe tbody tr th {\n",
       "        vertical-align: top;\n",
       "    }\n",
       "\n",
       "    .dataframe thead th {\n",
       "        text-align: right;\n",
       "    }\n",
       "</style>\n",
       "<table border=\"1\" class=\"dataframe\">\n",
       "  <thead>\n",
       "    <tr style=\"text-align: right;\">\n",
       "      <th></th>\n",
       "      <th>Heading</th>\n",
       "      <th>Name</th>\n",
       "    </tr>\n",
       "  </thead>\n",
       "  <tbody>\n",
       "    <tr>\n",
       "      <th>0</th>\n",
       "      <td>BILLY CONNOLLY: HIGH HORSE TOUR LIVE (2016) – ...</td>\n",
       "      <td>Billy Connolly</td>\n",
       "    </tr>\n",
       "    <tr>\n",
       "      <th>1</th>\n",
       "      <td>HANNAH GADSBY: DOUGLAS (2020) – FULL TRANSCRIPT</td>\n",
       "      <td>Hannah Gadsby</td>\n",
       "    </tr>\n",
       "    <tr>\n",
       "      <th>2</th>\n",
       "      <td>PATTON OSWALT: I LOVE EVERYTHING (2020) – FULL...</td>\n",
       "      <td>Patton Oswalt</td>\n",
       "    </tr>\n",
       "    <tr>\n",
       "      <th>3</th>\n",
       "      <td>RUSSELL PETERS: DEPORTED (2020) – FULL TRANSCRIPT</td>\n",
       "      <td>Russell Peters</td>\n",
       "    </tr>\n",
       "    <tr>\n",
       "      <th>4</th>\n",
       "      <td>JIMMY O. YANG: GOOD DEAL (2020) – FULL TRANSCRIPT</td>\n",
       "      <td>Jimmy O. Yang</td>\n",
       "    </tr>\n",
       "  </tbody>\n",
       "</table>\n",
       "</div>"
      ],
      "text/plain": [
       "                                             Heading            Name\n",
       "0  BILLY CONNOLLY: HIGH HORSE TOUR LIVE (2016) – ...  Billy Connolly\n",
       "1    HANNAH GADSBY: DOUGLAS (2020) – FULL TRANSCRIPT   Hannah Gadsby\n",
       "2  PATTON OSWALT: I LOVE EVERYTHING (2020) – FULL...   Patton Oswalt\n",
       "3  RUSSELL PETERS: DEPORTED (2020) – FULL TRANSCRIPT  Russell Peters\n",
       "4  JIMMY O. YANG: GOOD DEAL (2020) – FULL TRANSCRIPT   Jimmy O. Yang"
      ]
     },
     "execution_count": 8,
     "metadata": {},
     "output_type": "execute_result"
    }
   ],
   "source": [
    "comedian_df.head()"
   ]
  },
  {
   "cell_type": "code",
   "execution_count": 9,
   "metadata": {},
   "outputs": [
    {
     "data": {
      "text/html": [
       "<div>\n",
       "<style scoped>\n",
       "    .dataframe tbody tr th:only-of-type {\n",
       "        vertical-align: middle;\n",
       "    }\n",
       "\n",
       "    .dataframe tbody tr th {\n",
       "        vertical-align: top;\n",
       "    }\n",
       "\n",
       "    .dataframe thead th {\n",
       "        text-align: right;\n",
       "    }\n",
       "</style>\n",
       "<table border=\"1\" class=\"dataframe\">\n",
       "  <thead>\n",
       "    <tr style=\"text-align: right;\">\n",
       "      <th></th>\n",
       "      <th>Heading</th>\n",
       "      <th>Name</th>\n",
       "    </tr>\n",
       "  </thead>\n",
       "  <tbody>\n",
       "    <tr>\n",
       "      <th>49</th>\n",
       "      <td>DAVE CHAPPELLE: STICKS AND STONES | EPILOGUE: ...</td>\n",
       "      <td>Dave Chappelle</td>\n",
       "    </tr>\n",
       "    <tr>\n",
       "      <th>50</th>\n",
       "      <td>Brazil, Corruption and the Amazon Rainforest |...</td>\n",
       "      <td>Brazil, Corruption And The Amazon Rainforest |...</td>\n",
       "    </tr>\n",
       "  </tbody>\n",
       "</table>\n",
       "</div>"
      ],
      "text/plain": [
       "                                              Heading  \\\n",
       "49  DAVE CHAPPELLE: STICKS AND STONES | EPILOGUE: ...   \n",
       "50  Brazil, Corruption and the Amazon Rainforest |...   \n",
       "\n",
       "                                                 Name  \n",
       "49                                     Dave Chappelle  \n",
       "50  Brazil, Corruption And The Amazon Rainforest |...  "
      ]
     },
     "execution_count": 9,
     "metadata": {},
     "output_type": "execute_result"
    }
   ],
   "source": [
    "# testing another example of the dataframe. Note - the name in line 50 needs work\n",
    "\n",
    "comedian_df.iloc[49:51]"
   ]
  },
  {
   "cell_type": "markdown",
   "metadata": {},
   "source": [
    "#### Fixing Names"
   ]
  },
  {
   "cell_type": "code",
   "execution_count": 10,
   "metadata": {},
   "outputs": [],
   "source": [
    "# Most names look correct, but we have to make an adjustment on a few\n",
    "\n",
    "name_index = [11, 50, 57, 58, 63, 83, 86, 88, 100, 101, 103, 112, 148, 224, 231, 235, 237, 338]"
   ]
  },
  {
   "cell_type": "code",
   "execution_count": 11,
   "metadata": {},
   "outputs": [],
   "source": [
    "# List of corrected comedian names\n",
    "name_fix = ['Louis C.K.',\n",
    "'Hasan Minhaj',\n",
    "'Katherine Ryan',\n",
    "'Katherine Ryan',\n",
    "'Gina Yashere',\n",
    "'George Carlin',\n",
    "'Gabriel Iglesias',\n",
    "'John Leguizamo',\n",
    "'George Carlin',\n",
    "'Tom Segura',\n",
    "'Joe Mande',\n",
    "'Dave Chappelle',\n",
    "'Patton Oswalt',\n",
    "'Richard Pryor',\n",
    "'Dave Attell',\n",
    "'Daniel Tosh',\n",
    "'George Carlin',\n",
    "'Pauline Kael',\n",
    "]\n"
   ]
  },
  {
   "cell_type": "markdown",
   "metadata": {},
   "source": [
    "#### Looping through corrected names"
   ]
  },
  {
   "cell_type": "code",
   "execution_count": 12,
   "metadata": {},
   "outputs": [],
   "source": [
    "# Loop through adjustments using the 2 lists above\n",
    "for i, n in zip(name_index, name_fix):\n",
    "        comedian_df.Name.iloc[i] = n"
   ]
  },
  {
   "cell_type": "code",
   "execution_count": 13,
   "metadata": {},
   "outputs": [
    {
     "data": {
      "text/html": [
       "<div>\n",
       "<style scoped>\n",
       "    .dataframe tbody tr th:only-of-type {\n",
       "        vertical-align: middle;\n",
       "    }\n",
       "\n",
       "    .dataframe tbody tr th {\n",
       "        vertical-align: top;\n",
       "    }\n",
       "\n",
       "    .dataframe thead th {\n",
       "        text-align: right;\n",
       "    }\n",
       "</style>\n",
       "<table border=\"1\" class=\"dataframe\">\n",
       "  <thead>\n",
       "    <tr style=\"text-align: right;\">\n",
       "      <th></th>\n",
       "      <th>Heading</th>\n",
       "      <th>Name</th>\n",
       "    </tr>\n",
       "  </thead>\n",
       "  <tbody>\n",
       "    <tr>\n",
       "      <th>49</th>\n",
       "      <td>DAVE CHAPPELLE: STICKS AND STONES | EPILOGUE: ...</td>\n",
       "      <td>Dave Chappelle</td>\n",
       "    </tr>\n",
       "    <tr>\n",
       "      <th>50</th>\n",
       "      <td>Brazil, Corruption and the Amazon Rainforest |...</td>\n",
       "      <td>Hasan Minhaj</td>\n",
       "    </tr>\n",
       "  </tbody>\n",
       "</table>\n",
       "</div>"
      ],
      "text/plain": [
       "                                              Heading            Name\n",
       "49  DAVE CHAPPELLE: STICKS AND STONES | EPILOGUE: ...  Dave Chappelle\n",
       "50  Brazil, Corruption and the Amazon Rainforest |...    Hasan Minhaj"
      ]
     },
     "execution_count": 13,
     "metadata": {},
     "output_type": "execute_result"
    }
   ],
   "source": [
    "# a look at the revised dataframe\n",
    "comedian_df.iloc[49:51]"
   ]
  },
  {
   "cell_type": "code",
   "execution_count": null,
   "metadata": {},
   "outputs": [],
   "source": []
  },
  {
   "cell_type": "markdown",
   "metadata": {},
   "source": [
    "### Splitting Year"
   ]
  },
  {
   "cell_type": "markdown",
   "metadata": {},
   "source": [
    "The heading usually has information about the year of each stand-up set. Follow a similar process to split this out"
   ]
  },
  {
   "cell_type": "code",
   "execution_count": 14,
   "metadata": {},
   "outputs": [],
   "source": [
    "# loop uses regex to find 4 digit numbers as year. Then add Year to dataframe\n",
    "yr = []    \n",
    "for name in comedian_df['Heading']:\n",
    "    try:\n",
    "        yr.append(re.search(r'\\b\\d{4}\\b',name).group(0))\n",
    "    except:\n",
    "        yr.append('missing year')\n",
    "comedian_df['Year'] = yr"
   ]
  },
  {
   "cell_type": "code",
   "execution_count": 15,
   "metadata": {},
   "outputs": [],
   "source": [
    "# those without 4 digits numbers are classified as missing year. This is a list of them all\n",
    "missing_yr = comedian_df['Year'] == 'missing year'"
   ]
  },
  {
   "cell_type": "code",
   "execution_count": 16,
   "metadata": {},
   "outputs": [
    {
     "data": {
      "text/html": [
       "<div>\n",
       "<style scoped>\n",
       "    .dataframe tbody tr th:only-of-type {\n",
       "        vertical-align: middle;\n",
       "    }\n",
       "\n",
       "    .dataframe tbody tr th {\n",
       "        vertical-align: top;\n",
       "    }\n",
       "\n",
       "    .dataframe thead th {\n",
       "        text-align: right;\n",
       "    }\n",
       "</style>\n",
       "<table border=\"1\" class=\"dataframe\">\n",
       "  <thead>\n",
       "    <tr style=\"text-align: right;\">\n",
       "      <th></th>\n",
       "      <th>Heading</th>\n",
       "      <th>Name</th>\n",
       "      <th>Year</th>\n",
       "    </tr>\n",
       "  </thead>\n",
       "  <tbody>\n",
       "    <tr>\n",
       "      <th>49</th>\n",
       "      <td>DAVE CHAPPELLE: STICKS AND STONES | EPILOGUE: ...</td>\n",
       "      <td>Dave Chappelle</td>\n",
       "      <td>missing year</td>\n",
       "    </tr>\n",
       "    <tr>\n",
       "      <th>50</th>\n",
       "      <td>Brazil, Corruption and the Amazon Rainforest |...</td>\n",
       "      <td>Hasan Minhaj</td>\n",
       "      <td>missing year</td>\n",
       "    </tr>\n",
       "    <tr>\n",
       "      <th>51</th>\n",
       "      <td>DAVE CHAPPELLE: STICKS &amp; STONES (2019) – FULL ...</td>\n",
       "      <td>Dave Chappelle</td>\n",
       "      <td>2019</td>\n",
       "    </tr>\n",
       "  </tbody>\n",
       "</table>\n",
       "</div>"
      ],
      "text/plain": [
       "                                              Heading            Name  \\\n",
       "49  DAVE CHAPPELLE: STICKS AND STONES | EPILOGUE: ...  Dave Chappelle   \n",
       "50  Brazil, Corruption and the Amazon Rainforest |...    Hasan Minhaj   \n",
       "51  DAVE CHAPPELLE: STICKS & STONES (2019) – FULL ...  Dave Chappelle   \n",
       "\n",
       "            Year  \n",
       "49  missing year  \n",
       "50  missing year  \n",
       "51          2019  "
      ]
     },
     "execution_count": 16,
     "metadata": {},
     "output_type": "execute_result"
    }
   ],
   "source": [
    "# viewing the dataframe again\n",
    "comedian_df.iloc[49:52]"
   ]
  },
  {
   "cell_type": "code",
   "execution_count": 17,
   "metadata": {},
   "outputs": [
    {
     "data": {
      "text/html": [
       "<div>\n",
       "<style scoped>\n",
       "    .dataframe tbody tr th:only-of-type {\n",
       "        vertical-align: middle;\n",
       "    }\n",
       "\n",
       "    .dataframe tbody tr th {\n",
       "        vertical-align: top;\n",
       "    }\n",
       "\n",
       "    .dataframe thead th {\n",
       "        text-align: right;\n",
       "    }\n",
       "</style>\n",
       "<table border=\"1\" class=\"dataframe\">\n",
       "  <thead>\n",
       "    <tr style=\"text-align: right;\">\n",
       "      <th></th>\n",
       "      <th>Heading</th>\n",
       "      <th>Name</th>\n",
       "      <th>Year</th>\n",
       "    </tr>\n",
       "  </thead>\n",
       "  <tbody>\n",
       "    <tr>\n",
       "      <th>0</th>\n",
       "      <td>BILLY CONNOLLY: HIGH HORSE TOUR LIVE (2016) – ...</td>\n",
       "      <td>Billy Connolly</td>\n",
       "      <td>2016</td>\n",
       "    </tr>\n",
       "    <tr>\n",
       "      <th>1</th>\n",
       "      <td>HANNAH GADSBY: DOUGLAS (2020) – FULL TRANSCRIPT</td>\n",
       "      <td>Hannah Gadsby</td>\n",
       "      <td>2020</td>\n",
       "    </tr>\n",
       "    <tr>\n",
       "      <th>2</th>\n",
       "      <td>PATTON OSWALT: I LOVE EVERYTHING (2020) – FULL...</td>\n",
       "      <td>Patton Oswalt</td>\n",
       "      <td>2020</td>\n",
       "    </tr>\n",
       "    <tr>\n",
       "      <th>3</th>\n",
       "      <td>RUSSELL PETERS: DEPORTED (2020) – FULL TRANSCRIPT</td>\n",
       "      <td>Russell Peters</td>\n",
       "      <td>2020</td>\n",
       "    </tr>\n",
       "    <tr>\n",
       "      <th>4</th>\n",
       "      <td>JIMMY O. YANG: GOOD DEAL (2020) – FULL TRANSCRIPT</td>\n",
       "      <td>Jimmy O. Yang</td>\n",
       "      <td>2020</td>\n",
       "    </tr>\n",
       "  </tbody>\n",
       "</table>\n",
       "</div>"
      ],
      "text/plain": [
       "                                             Heading            Name  Year\n",
       "0  BILLY CONNOLLY: HIGH HORSE TOUR LIVE (2016) – ...  Billy Connolly  2016\n",
       "1    HANNAH GADSBY: DOUGLAS (2020) – FULL TRANSCRIPT   Hannah Gadsby  2020\n",
       "2  PATTON OSWALT: I LOVE EVERYTHING (2020) – FULL...   Patton Oswalt  2020\n",
       "3  RUSSELL PETERS: DEPORTED (2020) – FULL TRANSCRIPT  Russell Peters  2020\n",
       "4  JIMMY O. YANG: GOOD DEAL (2020) – FULL TRANSCRIPT   Jimmy O. Yang  2020"
      ]
     },
     "execution_count": 17,
     "metadata": {},
     "output_type": "execute_result"
    }
   ],
   "source": [
    "comedian_df.head()"
   ]
  },
  {
   "cell_type": "markdown",
   "metadata": {},
   "source": [
    "#### Fixing Years"
   ]
  },
  {
   "cell_type": "code",
   "execution_count": 18,
   "metadata": {},
   "outputs": [],
   "source": [
    "# creating an index for the missing year list\n",
    "missing_yr_index = [i for i, val in enumerate(missing_yr) if val]"
   ]
  },
  {
   "cell_type": "code",
   "execution_count": 19,
   "metadata": {},
   "outputs": [
    {
     "data": {
      "text/plain": [
       "[16,\n",
       " 19,\n",
       " 22,\n",
       " 49,\n",
       " 50,\n",
       " 54,\n",
       " 65,\n",
       " 83,\n",
       " 101,\n",
       " 107,\n",
       " 108,\n",
       " 142,\n",
       " 223,\n",
       " 236,\n",
       " 238,\n",
       " 311,\n",
       " 328,\n",
       " 338]"
      ]
     },
     "execution_count": 19,
     "metadata": {},
     "output_type": "execute_result"
    }
   ],
   "source": [
    "missing_yr_index"
   ]
  },
  {
   "cell_type": "code",
   "execution_count": 20,
   "metadata": {},
   "outputs": [],
   "source": [
    "# had to manually look up some of the missing years\n",
    "\n",
    "yr_list = ['1993',\n",
    "'1965',\n",
    "'2015',\n",
    "'2019',\n",
    "'2019',\n",
    "'2019',\n",
    "'2004',\n",
    "'1997',\n",
    "'2011',\n",
    "'2012',\n",
    "'2014',\n",
    "'2007',\n",
    "'1996',\n",
    "'1999',\n",
    "'2014',\n",
    "'1972',\n",
    "'2014',\n",
    "'1980']"
   ]
  },
  {
   "cell_type": "markdown",
   "metadata": {},
   "source": [
    "#### Looping through missing years"
   ]
  },
  {
   "cell_type": "code",
   "execution_count": 21,
   "metadata": {},
   "outputs": [],
   "source": [
    "# appling the missing years\n",
    "for i, y in zip(missing_yr_index, yr_list):\n",
    "        comedian_df.Year.iloc[i] = y"
   ]
  },
  {
   "cell_type": "code",
   "execution_count": 22,
   "metadata": {},
   "outputs": [
    {
     "data": {
      "text/html": [
       "<div>\n",
       "<style scoped>\n",
       "    .dataframe tbody tr th:only-of-type {\n",
       "        vertical-align: middle;\n",
       "    }\n",
       "\n",
       "    .dataframe tbody tr th {\n",
       "        vertical-align: top;\n",
       "    }\n",
       "\n",
       "    .dataframe thead th {\n",
       "        text-align: right;\n",
       "    }\n",
       "</style>\n",
       "<table border=\"1\" class=\"dataframe\">\n",
       "  <thead>\n",
       "    <tr style=\"text-align: right;\">\n",
       "      <th></th>\n",
       "      <th>Heading</th>\n",
       "      <th>Name</th>\n",
       "      <th>Year</th>\n",
       "    </tr>\n",
       "  </thead>\n",
       "  <tbody>\n",
       "    <tr>\n",
       "      <th>49</th>\n",
       "      <td>DAVE CHAPPELLE: STICKS AND STONES | EPILOGUE: ...</td>\n",
       "      <td>Dave Chappelle</td>\n",
       "      <td>2019</td>\n",
       "    </tr>\n",
       "    <tr>\n",
       "      <th>50</th>\n",
       "      <td>Brazil, Corruption and the Amazon Rainforest |...</td>\n",
       "      <td>Hasan Minhaj</td>\n",
       "      <td>2019</td>\n",
       "    </tr>\n",
       "  </tbody>\n",
       "</table>\n",
       "</div>"
      ],
      "text/plain": [
       "                                              Heading            Name  Year\n",
       "49  DAVE CHAPPELLE: STICKS AND STONES | EPILOGUE: ...  Dave Chappelle  2019\n",
       "50  Brazil, Corruption and the Amazon Rainforest |...    Hasan Minhaj  2019"
      ]
     },
     "execution_count": 22,
     "metadata": {},
     "output_type": "execute_result"
    }
   ],
   "source": [
    "# checking the df - years have been added\n",
    "comedian_df.iloc[49:51]"
   ]
  },
  {
   "cell_type": "code",
   "execution_count": 23,
   "metadata": {},
   "outputs": [
    {
     "data": {
      "text/plain": [
       "2018    43\n",
       "2017    40\n",
       "2019    40\n",
       "2016    27\n",
       "2015    22\n",
       "2014    16\n",
       "2013    15\n",
       "2020    14\n",
       "2012    14\n",
       "2010    13\n",
       "2011    11\n",
       "2007     9\n",
       "1999     8\n",
       "2006     8\n",
       "2008     6\n",
       "2004     6\n",
       "2009     5\n",
       "1992     4\n",
       "1996     4\n",
       "1983     3\n",
       "Name: Year, dtype: int64"
      ]
     },
     "execution_count": 23,
     "metadata": {},
     "output_type": "execute_result"
    }
   ],
   "source": [
    "# top 20 years by count, most are recent\n",
    "comedian_df.Year.value_counts()[:20]"
   ]
  },
  {
   "cell_type": "code",
   "execution_count": null,
   "metadata": {},
   "outputs": [],
   "source": []
  },
  {
   "cell_type": "markdown",
   "metadata": {},
   "source": [
    "### Splitting Title"
   ]
  },
  {
   "cell_type": "markdown",
   "metadata": {},
   "source": [
    "We can also split the title of each stand-up set from the heading"
   ]
  },
  {
   "cell_type": "code",
   "execution_count": 24,
   "metadata": {},
   "outputs": [],
   "source": [
    "# Start by splitting on hyphen or parentheses or brackets\n",
    "split_titles =['–', ' (', ' [']"
   ]
  },
  {
   "cell_type": "code",
   "execution_count": 25,
   "metadata": {},
   "outputs": [],
   "source": [
    "# Note this time we apply 'capwords' rather than 'title' as capwords works better with apostrophes in titles\n",
    "# The second part of the loop splits on colon, taking the second part of the split. \n",
    "# We need a try / except for cases without a colon\n",
    "\n",
    "ti=[]\n",
    "for ttl in comedian_df['Heading']:\n",
    "        for word in split_titles:\n",
    "            ttl = string.capwords(ttl.split(word)[0]).rstrip()\n",
    "    \n",
    "        try:\n",
    "            ttl = (ttl.split(\":\")[1].lstrip())\n",
    "        except:\n",
    "            ttl = ttl\n",
    "        ti.append(ttl)\n",
    "\n",
    "comedian_df['Title'] = ti\n"
   ]
  },
  {
   "cell_type": "code",
   "execution_count": 26,
   "metadata": {},
   "outputs": [
    {
     "data": {
      "text/html": [
       "<div>\n",
       "<style scoped>\n",
       "    .dataframe tbody tr th:only-of-type {\n",
       "        vertical-align: middle;\n",
       "    }\n",
       "\n",
       "    .dataframe tbody tr th {\n",
       "        vertical-align: top;\n",
       "    }\n",
       "\n",
       "    .dataframe thead th {\n",
       "        text-align: right;\n",
       "    }\n",
       "</style>\n",
       "<table border=\"1\" class=\"dataframe\">\n",
       "  <thead>\n",
       "    <tr style=\"text-align: right;\">\n",
       "      <th></th>\n",
       "      <th>Heading</th>\n",
       "      <th>Name</th>\n",
       "      <th>Year</th>\n",
       "      <th>Title</th>\n",
       "    </tr>\n",
       "  </thead>\n",
       "  <tbody>\n",
       "    <tr>\n",
       "      <th>49</th>\n",
       "      <td>DAVE CHAPPELLE: STICKS AND STONES | EPILOGUE: ...</td>\n",
       "      <td>Dave Chappelle</td>\n",
       "      <td>2019</td>\n",
       "      <td>Sticks And Stones | Epilogue</td>\n",
       "    </tr>\n",
       "    <tr>\n",
       "      <th>50</th>\n",
       "      <td>Brazil, Corruption and the Amazon Rainforest |...</td>\n",
       "      <td>Hasan Minhaj</td>\n",
       "      <td>2019</td>\n",
       "      <td>Brazil, Corruption And The Amazon Rainforest |...</td>\n",
       "    </tr>\n",
       "  </tbody>\n",
       "</table>\n",
       "</div>"
      ],
      "text/plain": [
       "                                              Heading            Name  Year  \\\n",
       "49  DAVE CHAPPELLE: STICKS AND STONES | EPILOGUE: ...  Dave Chappelle  2019   \n",
       "50  Brazil, Corruption and the Amazon Rainforest |...    Hasan Minhaj  2019   \n",
       "\n",
       "                                                Title  \n",
       "49                       Sticks And Stones | Epilogue  \n",
       "50  Brazil, Corruption And The Amazon Rainforest |...  "
      ]
     },
     "execution_count": 26,
     "metadata": {},
     "output_type": "execute_result"
    }
   ],
   "source": [
    "# viewing the dataframe, note the dots for an extended title on line 50\n",
    "comedian_df.iloc[49:51]"
   ]
  },
  {
   "cell_type": "markdown",
   "metadata": {},
   "source": [
    "#### Fixing Titles"
   ]
  },
  {
   "cell_type": "code",
   "execution_count": 27,
   "metadata": {},
   "outputs": [],
   "source": [
    "# a few titles need refinement.\n",
    "\n",
    "title_index = [10,\n",
    "50,\n",
    "57,\n",
    "58,\n",
    "63,\n",
    "65,\n",
    "74,\n",
    "88,\n",
    "101,\n",
    "103,\n",
    "142,\n",
    "148,\n",
    "156,\n",
    "180,\n",
    "223,\n",
    "224,\n",
    "229,\n",
    "231,\n",
    "235,\n",
    "251,\n",
    "305,\n",
    "324,\n",
    "328,\n",
    "338]"
   ]
  },
  {
   "cell_type": "code",
   "execution_count": 28,
   "metadata": {},
   "outputs": [],
   "source": [
    "title_fix = ['The Late Show With David Letterman',\n",
    "'Brazil, Corruption And The Amazon Rainforest',\n",
    "'In Trouble',\n",
    "'Glitter Room',\n",
    "'The Standups',\n",
    "'Babies And Abortion',\n",
    "'Live On Broadway',\n",
    "'Latin History For Morons',\n",
    "'Comedy Central Presents',\n",
    "'Award-Winning Comedy Special',\n",
    "'Nationalism',\n",
    "'Comedy Central Presents',\n",
    "'Glorious',\n",
    "'Live at Laff Stop',\n",
    "'Abortion and “Pro-Lifers”',\n",
    "'Monologue at Saturday Night Live',\n",
    "'Tries Stand-up For The First Time',\n",
    "'Comedy Central Presents',\n",
    "'Comedy Central Presents',\n",
    "'Here And Now',\n",
    "'2017 White House Correspondents’ Dinner',\n",
    "'2011 White House Correspondents’ Dinner',\n",
    "'Gun Control',\n",
    "'The Shining Devolution']"
   ]
  },
  {
   "cell_type": "markdown",
   "metadata": {},
   "source": [
    "#### Looping through title fix"
   ]
  },
  {
   "cell_type": "code",
   "execution_count": 29,
   "metadata": {},
   "outputs": [],
   "source": [
    "for i, t in zip(title_index, title_fix):\n",
    "        comedian_df.Title.iloc[i] = t"
   ]
  },
  {
   "cell_type": "code",
   "execution_count": 30,
   "metadata": {},
   "outputs": [
    {
     "data": {
      "text/html": [
       "<div>\n",
       "<style scoped>\n",
       "    .dataframe tbody tr th:only-of-type {\n",
       "        vertical-align: middle;\n",
       "    }\n",
       "\n",
       "    .dataframe tbody tr th {\n",
       "        vertical-align: top;\n",
       "    }\n",
       "\n",
       "    .dataframe thead th {\n",
       "        text-align: right;\n",
       "    }\n",
       "</style>\n",
       "<table border=\"1\" class=\"dataframe\">\n",
       "  <thead>\n",
       "    <tr style=\"text-align: right;\">\n",
       "      <th></th>\n",
       "      <th>Heading</th>\n",
       "      <th>Name</th>\n",
       "      <th>Year</th>\n",
       "      <th>Title</th>\n",
       "    </tr>\n",
       "  </thead>\n",
       "  <tbody>\n",
       "    <tr>\n",
       "      <th>49</th>\n",
       "      <td>DAVE CHAPPELLE: STICKS AND STONES | EPILOGUE: ...</td>\n",
       "      <td>Dave Chappelle</td>\n",
       "      <td>2019</td>\n",
       "      <td>Sticks And Stones | Epilogue</td>\n",
       "    </tr>\n",
       "    <tr>\n",
       "      <th>50</th>\n",
       "      <td>Brazil, Corruption and the Amazon Rainforest |...</td>\n",
       "      <td>Hasan Minhaj</td>\n",
       "      <td>2019</td>\n",
       "      <td>Brazil, Corruption And The Amazon Rainforest</td>\n",
       "    </tr>\n",
       "  </tbody>\n",
       "</table>\n",
       "</div>"
      ],
      "text/plain": [
       "                                              Heading            Name  Year  \\\n",
       "49  DAVE CHAPPELLE: STICKS AND STONES | EPILOGUE: ...  Dave Chappelle  2019   \n",
       "50  Brazil, Corruption and the Amazon Rainforest |...    Hasan Minhaj  2019   \n",
       "\n",
       "                                           Title  \n",
       "49                  Sticks And Stones | Epilogue  \n",
       "50  Brazil, Corruption And The Amazon Rainforest  "
      ]
     },
     "execution_count": 30,
     "metadata": {},
     "output_type": "execute_result"
    }
   ],
   "source": [
    "# viewing same titles after the fix has been applied\n",
    "comedian_df.iloc[49:51]"
   ]
  },
  {
   "cell_type": "code",
   "execution_count": null,
   "metadata": {},
   "outputs": [],
   "source": []
  },
  {
   "cell_type": "markdown",
   "metadata": {},
   "source": [
    "### Add Link to Dataframe"
   ]
  },
  {
   "cell_type": "markdown",
   "metadata": {},
   "source": [
    "Now we can add the link and the transcript to our dataframe"
   ]
  },
  {
   "cell_type": "code",
   "execution_count": 31,
   "metadata": {},
   "outputs": [],
   "source": [
    "# opening pickle file\n",
    "with open('link.pickle', 'rb') as f:\n",
    "    link = pickle.load(f)"
   ]
  },
  {
   "cell_type": "code",
   "execution_count": 32,
   "metadata": {},
   "outputs": [],
   "source": [
    "comedian_df['Link'] = link"
   ]
  },
  {
   "cell_type": "code",
   "execution_count": 33,
   "metadata": {},
   "outputs": [
    {
     "data": {
      "text/html": [
       "<div>\n",
       "<style scoped>\n",
       "    .dataframe tbody tr th:only-of-type {\n",
       "        vertical-align: middle;\n",
       "    }\n",
       "\n",
       "    .dataframe tbody tr th {\n",
       "        vertical-align: top;\n",
       "    }\n",
       "\n",
       "    .dataframe thead th {\n",
       "        text-align: right;\n",
       "    }\n",
       "</style>\n",
       "<table border=\"1\" class=\"dataframe\">\n",
       "  <thead>\n",
       "    <tr style=\"text-align: right;\">\n",
       "      <th></th>\n",
       "      <th>Heading</th>\n",
       "      <th>Name</th>\n",
       "      <th>Year</th>\n",
       "      <th>Title</th>\n",
       "      <th>Link</th>\n",
       "    </tr>\n",
       "  </thead>\n",
       "  <tbody>\n",
       "    <tr>\n",
       "      <th>0</th>\n",
       "      <td>BILLY CONNOLLY: HIGH HORSE TOUR LIVE (2016) – ...</td>\n",
       "      <td>Billy Connolly</td>\n",
       "      <td>2016</td>\n",
       "      <td>High Horse Tour Live</td>\n",
       "      <td>https://scrapsfromtheloft.com/2020/05/27/billy...</td>\n",
       "    </tr>\n",
       "    <tr>\n",
       "      <th>1</th>\n",
       "      <td>HANNAH GADSBY: DOUGLAS (2020) – FULL TRANSCRIPT</td>\n",
       "      <td>Hannah Gadsby</td>\n",
       "      <td>2020</td>\n",
       "      <td>Douglas</td>\n",
       "      <td>https://scrapsfromtheloft.com/2020/05/26/hanna...</td>\n",
       "    </tr>\n",
       "    <tr>\n",
       "      <th>2</th>\n",
       "      <td>PATTON OSWALT: I LOVE EVERYTHING (2020) – FULL...</td>\n",
       "      <td>Patton Oswalt</td>\n",
       "      <td>2020</td>\n",
       "      <td>I Love Everything</td>\n",
       "      <td>https://scrapsfromtheloft.com/2020/05/20/patto...</td>\n",
       "    </tr>\n",
       "    <tr>\n",
       "      <th>3</th>\n",
       "      <td>RUSSELL PETERS: DEPORTED (2020) – FULL TRANSCRIPT</td>\n",
       "      <td>Russell Peters</td>\n",
       "      <td>2020</td>\n",
       "      <td>Deported</td>\n",
       "      <td>https://scrapsfromtheloft.com/2020/05/10/russe...</td>\n",
       "    </tr>\n",
       "    <tr>\n",
       "      <th>4</th>\n",
       "      <td>JIMMY O. YANG: GOOD DEAL (2020) – FULL TRANSCRIPT</td>\n",
       "      <td>Jimmy O. Yang</td>\n",
       "      <td>2020</td>\n",
       "      <td>Good Deal</td>\n",
       "      <td>https://scrapsfromtheloft.com/2020/05/10/jimmy...</td>\n",
       "    </tr>\n",
       "    <tr>\n",
       "      <th>...</th>\n",
       "      <td>...</td>\n",
       "      <td>...</td>\n",
       "      <td>...</td>\n",
       "      <td>...</td>\n",
       "      <td>...</td>\n",
       "    </tr>\n",
       "    <tr>\n",
       "      <th>338</th>\n",
       "      <td>THE SHINING: DEVOLUTION – REVIEW BY PAULINE KAEL</td>\n",
       "      <td>Pauline Kael</td>\n",
       "      <td>1980</td>\n",
       "      <td>The Shining Devolution</td>\n",
       "      <td>https://scrapsfromtheloft.com/2016/10/16/shini...</td>\n",
       "    </tr>\n",
       "    <tr>\n",
       "      <th>339</th>\n",
       "      <td>DAVE CHAPPELLE: STICKS &amp; STONES (2019) – FULL ...</td>\n",
       "      <td>Dave Chappelle</td>\n",
       "      <td>2019</td>\n",
       "      <td>Sticks &amp; Stones</td>\n",
       "      <td>https://scrapsfromtheloft.com/2019/08/26/dave-...</td>\n",
       "    </tr>\n",
       "    <tr>\n",
       "      <th>340</th>\n",
       "      <td>KEVIN HART: SERIOUSLY FUNNY (2010) – FULL TRAN...</td>\n",
       "      <td>Kevin Hart</td>\n",
       "      <td>2010</td>\n",
       "      <td>Seriously Funny</td>\n",
       "      <td>https://scrapsfromtheloft.com/2017/09/02/kevin...</td>\n",
       "    </tr>\n",
       "    <tr>\n",
       "      <th>341</th>\n",
       "      <td>TOM SEGURA: DISGRACEFUL (2018) – FULL TRANSCRIPT</td>\n",
       "      <td>Tom Segura</td>\n",
       "      <td>2018</td>\n",
       "      <td>Disgraceful</td>\n",
       "      <td>https://scrapsfromtheloft.com/2018/01/13/tom-s...</td>\n",
       "    </tr>\n",
       "    <tr>\n",
       "      <th>342</th>\n",
       "      <td>HANNAH GADSBY: NANETTE (2018) – FULL TRANSCRIPT</td>\n",
       "      <td>Hannah Gadsby</td>\n",
       "      <td>2018</td>\n",
       "      <td>Nanette</td>\n",
       "      <td>https://scrapsfromtheloft.com/2018/07/21/hanna...</td>\n",
       "    </tr>\n",
       "  </tbody>\n",
       "</table>\n",
       "<p>343 rows × 5 columns</p>\n",
       "</div>"
      ],
      "text/plain": [
       "                                               Heading            Name  Year  \\\n",
       "0    BILLY CONNOLLY: HIGH HORSE TOUR LIVE (2016) – ...  Billy Connolly  2016   \n",
       "1      HANNAH GADSBY: DOUGLAS (2020) – FULL TRANSCRIPT   Hannah Gadsby  2020   \n",
       "2    PATTON OSWALT: I LOVE EVERYTHING (2020) – FULL...   Patton Oswalt  2020   \n",
       "3    RUSSELL PETERS: DEPORTED (2020) – FULL TRANSCRIPT  Russell Peters  2020   \n",
       "4    JIMMY O. YANG: GOOD DEAL (2020) – FULL TRANSCRIPT   Jimmy O. Yang  2020   \n",
       "..                                                 ...             ...   ...   \n",
       "338   THE SHINING: DEVOLUTION – REVIEW BY PAULINE KAEL    Pauline Kael  1980   \n",
       "339  DAVE CHAPPELLE: STICKS & STONES (2019) – FULL ...  Dave Chappelle  2019   \n",
       "340  KEVIN HART: SERIOUSLY FUNNY (2010) – FULL TRAN...      Kevin Hart  2010   \n",
       "341   TOM SEGURA: DISGRACEFUL (2018) – FULL TRANSCRIPT      Tom Segura  2018   \n",
       "342    HANNAH GADSBY: NANETTE (2018) – FULL TRANSCRIPT   Hannah Gadsby  2018   \n",
       "\n",
       "                      Title                                               Link  \n",
       "0      High Horse Tour Live  https://scrapsfromtheloft.com/2020/05/27/billy...  \n",
       "1                   Douglas  https://scrapsfromtheloft.com/2020/05/26/hanna...  \n",
       "2         I Love Everything  https://scrapsfromtheloft.com/2020/05/20/patto...  \n",
       "3                  Deported  https://scrapsfromtheloft.com/2020/05/10/russe...  \n",
       "4                 Good Deal  https://scrapsfromtheloft.com/2020/05/10/jimmy...  \n",
       "..                      ...                                                ...  \n",
       "338  The Shining Devolution  https://scrapsfromtheloft.com/2016/10/16/shini...  \n",
       "339         Sticks & Stones  https://scrapsfromtheloft.com/2019/08/26/dave-...  \n",
       "340         Seriously Funny  https://scrapsfromtheloft.com/2017/09/02/kevin...  \n",
       "341             Disgraceful  https://scrapsfromtheloft.com/2018/01/13/tom-s...  \n",
       "342                 Nanette  https://scrapsfromtheloft.com/2018/07/21/hanna...  \n",
       "\n",
       "[343 rows x 5 columns]"
      ]
     },
     "execution_count": 33,
     "metadata": {},
     "output_type": "execute_result"
    }
   ],
   "source": [
    "comedian_df"
   ]
  },
  {
   "cell_type": "code",
   "execution_count": null,
   "metadata": {},
   "outputs": [],
   "source": []
  },
  {
   "cell_type": "markdown",
   "metadata": {},
   "source": [
    "### Add Transcript to Dataframe"
   ]
  },
  {
   "cell_type": "code",
   "execution_count": 34,
   "metadata": {},
   "outputs": [],
   "source": [
    "# opening pickle file\n",
    "with open('transcript2.pickle', 'rb') as f:\n",
    "    transcript = pickle.load(f)"
   ]
  },
  {
   "cell_type": "code",
   "execution_count": 35,
   "metadata": {},
   "outputs": [],
   "source": [
    "comedian_df['Transcript'] = transcript"
   ]
  },
  {
   "cell_type": "markdown",
   "metadata": {},
   "source": [
    "comedian_df.Transcript[342][:500]"
   ]
  },
  {
   "cell_type": "markdown",
   "metadata": {},
   "source": [
    "#### Adding the length of each transcript to the dataframe"
   ]
  },
  {
   "cell_type": "code",
   "execution_count": 38,
   "metadata": {},
   "outputs": [],
   "source": [
    "# loop counts the number of characters in each transcript\n",
    "length =[]\n",
    "for t in comedian_df['Transcript']:\n",
    "    lngth = len(t)\n",
    "    length.append(lngth)\n",
    "\n",
    "comedian_df['Length'] = length"
   ]
  },
  {
   "cell_type": "code",
   "execution_count": 39,
   "metadata": {},
   "outputs": [
    {
     "data": {
      "text/plain": [
       "65834"
      ]
     },
     "execution_count": 39,
     "metadata": {},
     "output_type": "execute_result"
    }
   ],
   "source": [
    "# view first example\n",
    "len(comedian_df['Transcript'][0])"
   ]
  },
  {
   "cell_type": "markdown",
   "metadata": {},
   "source": [
    "#### Adding word count of each transcript to the dataframe"
   ]
  },
  {
   "cell_type": "code",
   "execution_count": 40,
   "metadata": {},
   "outputs": [],
   "source": [
    "# loop counts the number of words in each transcript"
   ]
  },
  {
   "cell_type": "code",
   "execution_count": 41,
   "metadata": {},
   "outputs": [],
   "source": [
    "words = []\n",
    "for w in comedian_df['Transcript']:\n",
    "    count = len(w.split())\n",
    "    words.append(count)\n",
    "    \n",
    "comedian_df['WordCount'] = words"
   ]
  },
  {
   "cell_type": "code",
   "execution_count": 42,
   "metadata": {},
   "outputs": [
    {
     "data": {
      "text/plain": [
       "['Adam Devine',\n",
       " 'Adam Sandler',\n",
       " 'Adel Karam',\n",
       " 'Al Madrigal',\n",
       " 'Ali Wong',\n",
       " 'Amanda Seales',\n",
       " 'Amy Schumer',\n",
       " 'Andy Woodhull',\n",
       " 'Anjelah Johnson',\n",
       " 'Anthony Jeselnik',\n",
       " 'Ari Shaffir',\n",
       " 'Arsenio Hall',\n",
       " 'Aziz Ansari',\n",
       " 'Bert Kreischer',\n",
       " 'Big Jay Oakerson',\n",
       " 'Bill Burr',\n",
       " 'Bill Hicks',\n",
       " 'Bill Maher',\n",
       " 'Billy Connolly',\n",
       " 'Bo Burnham',\n",
       " 'Brad Williams',\n",
       " 'Brent Morin',\n",
       " 'Brian Regan',\n",
       " 'Bridget Everett',\n",
       " 'Cedric The Entertainer',\n",
       " 'Chelsea Peretti',\n",
       " 'Chris D’Elia',\n",
       " 'Chris Rock',\n",
       " 'Chris Tucker',\n",
       " 'Christina Pazsitzky',\n",
       " 'Colin Quinn',\n",
       " 'Craig Ferguson',\n",
       " 'Cristela Alonzo',\n",
       " 'D.L. Hughley',\n",
       " 'Dan Soder',\n",
       " 'Dana Carvey',\n",
       " 'Daniel Sloss',\n",
       " 'Daniel Tosh',\n",
       " 'Dave Allen',\n",
       " 'Dave Attell',\n",
       " 'Dave Chappelle',\n",
       " 'David Cross',\n",
       " 'Demetri Martin',\n",
       " 'Deray Davis',\n",
       " 'Dick Gregory',\n",
       " 'Donald Glover',\n",
       " 'Doug Stanhope',\n",
       " 'Dylan Moran',\n",
       " 'Eddie Griffin',\n",
       " 'Eddie Izzard',\n",
       " 'Eddie Murphy',\n",
       " 'Ellen Degeneres',\n",
       " 'Emily Heller',\n",
       " 'Enissa Amani',\n",
       " 'Erik Griffin',\n",
       " 'Fahim Anwar',\n",
       " 'Frankie Boyle',\n",
       " 'Fred Armisen',\n",
       " 'Gabriel Iglesias',\n",
       " 'George Carlin',\n",
       " 'Gina Yashere',\n",
       " 'Greg Davies',\n",
       " 'Hannah Gadsby',\n",
       " 'Hannibal Buress',\n",
       " 'Hasan Minhaj',\n",
       " 'Henry Rollins',\n",
       " 'Iliza Shlesinger',\n",
       " 'Jack Whitehall',\n",
       " 'Jeff Foxworthy',\n",
       " 'Jen Kirkman',\n",
       " 'Jerry Seinfeld',\n",
       " 'Jim Gaffigan',\n",
       " 'Jim Jefferies',\n",
       " 'Jim Norton',\n",
       " 'Jimmy Carr',\n",
       " 'Jimmy O. Yang',\n",
       " 'Jo Koy',\n",
       " 'Joe Mande',\n",
       " 'Joe Rogan',\n",
       " 'John Leguizamo',\n",
       " 'John Mulaney',\n",
       " 'Judah Friedlander',\n",
       " 'Katherine Ryan',\n",
       " 'Katt Williams',\n",
       " 'Kavin Jay',\n",
       " 'Ken Jeong',\n",
       " 'Kevin Bridges',\n",
       " 'Kevin Hart',\n",
       " 'Kevin James',\n",
       " 'Kevin Smith',\n",
       " 'Lee Mack',\n",
       " 'Lenny Bruce',\n",
       " 'Lewis Black',\n",
       " 'Lisa Lampanelli',\n",
       " 'Louis C.K.',\n",
       " 'Marc Maron',\n",
       " 'Maria Bamford',\n",
       " 'Mark Normand',\n",
       " 'Marlon Wayans',\n",
       " 'Maz Jobrani',\n",
       " 'Michael Che',\n",
       " 'Michael Mcintyre',\n",
       " 'Michelle Wolf',\n",
       " 'Mike Birbiglia',\n",
       " 'Mike Epps',\n",
       " 'Mitch Hedberg',\n",
       " 'Mo Amer',\n",
       " 'Nate Bargatze',\n",
       " 'Neal Brennan',\n",
       " 'Nick Offerman',\n",
       " 'Nikki Glaser',\n",
       " 'Norm Macdonald',\n",
       " 'Pablo Francisco',\n",
       " 'Patrice O’Neal',\n",
       " 'Patton Oswalt',\n",
       " 'Paul Mooney',\n",
       " 'Pauline Kael',\n",
       " 'Pete Davidson',\n",
       " 'Pete Holmes',\n",
       " 'Ralphie May',\n",
       " 'Ray Romano',\n",
       " 'Reggie Watts',\n",
       " 'Richard Pryor',\n",
       " 'Ricky Gervais',\n",
       " 'Robin Williams',\n",
       " 'Ron White',\n",
       " 'Rory Scovel',\n",
       " 'Rowan Atkinson',\n",
       " 'Roy Wood Jr.',\n",
       " 'Russell Brand',\n",
       " 'Russell Howard',\n",
       " 'Russell Peters',\n",
       " 'Ryan Hamilton',\n",
       " 'Sara Pascoe',\n",
       " 'Sarah Millican',\n",
       " 'Sarah Silverman',\n",
       " 'Sebastian Maniscalco',\n",
       " 'Seth Meyers',\n",
       " 'Stewart Lee',\n",
       " 'T.J. Miller',\n",
       " 'Tiffany Haddish',\n",
       " 'Todd Barry',\n",
       " 'Todd Glass',\n",
       " 'Tom Segura',\n",
       " 'Trevor Noah',\n",
       " 'Vir Das',\n",
       " 'Volker Pispers',\n",
       " 'Wanda Sykes',\n",
       " 'Whitney Cummings']"
      ]
     },
     "execution_count": 42,
     "metadata": {},
     "output_type": "execute_result"
    }
   ],
   "source": [
    "# viewing comedian names. Making sure that there are no alternative spellings - Dave vs David for example\n",
    "sorted(comedian_df.Name.unique())"
   ]
  },
  {
   "cell_type": "code",
   "execution_count": 43,
   "metadata": {},
   "outputs": [
    {
     "data": {
      "text/plain": [
       "George Carlin           24\n",
       "Dave Chappelle          13\n",
       "Louis C.K.              11\n",
       "Ricky Gervais            8\n",
       "Jim Jefferies            8\n",
       "Bill Burr                8\n",
       "John Mulaney             7\n",
       "Kevin Hart               6\n",
       "Tom Segura               6\n",
       "Chris Rock               6\n",
       "Doug Stanhope            5\n",
       "Iliza Shlesinger         5\n",
       "Trevor Noah              5\n",
       "Richard Pryor            5\n",
       "Eddie Izzard             4\n",
       "Amy Schumer              4\n",
       "Patton Oswalt            4\n",
       "Daniel Tosh              4\n",
       "Sarah Silverman          4\n",
       "Stewart Lee              4\n",
       "Jim Norton               4\n",
       "Jimmy Carr               4\n",
       "Bert Kreischer           4\n",
       "Sebastian Maniscalco     4\n",
       "Gabriel Iglesias         4\n",
       "Bill Maher               3\n",
       "Frankie Boyle            3\n",
       "Jo Koy                   3\n",
       "Kevin Bridges            3\n",
       "Bill Hicks               3\n",
       "Name: Name, dtype: int64"
      ]
     },
     "execution_count": 43,
     "metadata": {},
     "output_type": "execute_result"
    }
   ],
   "source": [
    "# Top Comedians by transcript count\n",
    "comedian_df.Name.value_counts()[:30]"
   ]
  },
  {
   "cell_type": "code",
   "execution_count": 44,
   "metadata": {},
   "outputs": [],
   "source": [
    "# backup before removing duplicates\n",
    "backupcopy_df = comedian_df"
   ]
  },
  {
   "cell_type": "code",
   "execution_count": null,
   "metadata": {},
   "outputs": [],
   "source": []
  }
 ],
 "metadata": {
  "kernelspec": {
   "display_name": "Python 3",
   "language": "python",
   "name": "python3"
  },
  "language_info": {
   "codemirror_mode": {
    "name": "ipython",
    "version": 3
   },
   "file_extension": ".py",
   "mimetype": "text/x-python",
   "name": "python",
   "nbconvert_exporter": "python",
   "pygments_lexer": "ipython3",
   "version": "3.7.9"
  }
 },
 "nbformat": 4,
 "nbformat_minor": 4
}
